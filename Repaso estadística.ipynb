{
 "cells": [
  {
   "cell_type": "markdown",
   "metadata": {},
   "source": [
    "# Estadística\n",
    "\n",
    "\n",
    "\n",
    "<img src=\"images/meme.jpeg\" alt=\"drawing\" width=\"500\"/>\n",
    "\n",
    "¿Por qué queremos estudiar estadística?\n",
    "\n",
    "En Machine Learning trabajamos con observaciones de ciertos sucesos o fenónemos, los cuales utilizamos como atributos para realizar predicciones. Estas observaciones podemos verlas como variables aleatorias (v.a) que provienen de cierta distribución. Por ejemplo, si queremos predecir la nota final de los alumnos en el ramo de Machine Learning, podemos tener como un atributo su estatura. Supongamos que observamos todas las estaturas de los alumnos y obtenemos lo siguiente:\n",
    "\n",
    "$Obs = \\{1.51, 1.66, 1.85, 1.63, 1.72, 1.75\\}$\n",
    "\n",
    "A partir de esta información, podemos asumir que nuestras observaciones provienen de una distribución normal. Denotaremos nuestras observaciones como las variables aleatorias $x_{1}, x_{2}, ... x_{n} \\in X$, las cuales son i.i.d.\n",
    "\n",
    "$X \\sim \\mathcal{N}(\\mu, \\sigma^{2})$\n",
    "\n",
    "De esta manera podemos transformar problemas de predicción en problemas estadísticos, modelando el problema anterior en la forma: $P(Y|X)$, donde $Y$ es la v.a. que representa la nota final del alumno.\n",
    "\n"
   ]
  },
  {
   "cell_type": "code",
   "execution_count": 1,
   "metadata": {},
   "outputs": [
    {
     "data": {
      "text/plain": [
       "array([162.8935425 , 178.73360704, 171.47853579, 165.57064747,\n",
       "       183.16196618, 186.46431469, 160.0635735 , 198.04810373,\n",
       "       168.08738239, 177.64946444, 185.99318891, 171.62797083,\n",
       "       183.98799126, 183.34376099, 169.92133435, 169.98177172,\n",
       "       180.26937028, 185.51735126, 150.13302459, 159.11845716])"
      ]
     },
     "execution_count": 1,
     "metadata": {},
     "output_type": "execute_result"
    }
   ],
   "source": [
    "import numpy as np\n",
    "\n",
    "\n",
    "mu, sigma = 170, 10\n",
    "x = np.random.normal(mu, sigma, 20)\n",
    "x"
   ]
  },
  {
   "cell_type": "markdown",
   "metadata": {},
   "source": [
    "## Probabilidades\n",
    "\n",
    "Las probabilidades son el lenguaje matemático para cuantificar la incerteza. \n",
    "\n",
    "$\\textbf{Notación: }$\n",
    "1. Espacio muestral ($\\Omega$): Espacio de los posibles resultados de un experimento. \n",
    "2. Realización ($\\omega$): Posible resultado de un experimento, dado el espacio muestral $\\Omega$.\n",
    "3. Eventos: Subconjunto de posibles resultados de la realización de un experimento, dado el espacio muestral $\\Omega$.\n",
    "\n",
    "Ejemplo: Si tiramos dos monedas al aire, $\\Omega = \\{CC, CS, SC, SS\\}$. Un evento en el que la primera moneda sale cara es: $A=\\{CS, CC\\}$.\n",
    "\n",
    "$\\textbf{Operadores: }$\n",
    "1. Evento complementario: $A^{c} = \\{\\omega \\in \\Omega: \\omega \\notin A \\}$\n",
    "2. Union: $\\cup^{n}_{i=1}A_{i} = \\{\\omega \\in \\Omega: \\omega \\in A_{i}$ para al menos un $i\\}$\n",
    "3. Intersección: $\\cap^{n}_{i=1}A_{i} = \\{\\omega \\in \\Omega: \\omega \\in A_{i}$ para todos los $i\\}$\n",
    "4. Diferecia: $A-B = \\{\\omega: \\omega \\in A, \\omega \\notin B\\}$\n",
    "5. Eventos disjuntos: $A_{i}\\cap A{j} = \\emptyset$\n",
    "\n",
    "$\\textbf{Definición: }$\n",
    "\n",
    "La probabilidad es la asignación de un valor real al nivel de certeza que tenemos sobre la realización de un evento. Podemos calcularla:\n",
    "\n",
    "$P(A) = \\frac{Realizaciones\\ de\\ A}{Realizaciones\\ totales}$\n",
    "\n",
    "$\\textbf{Axiomas}$:\n",
    "\n",
    "1. $P(A) \\geq 0$ para cada A.\n",
    "2. $P(\\Omega) = 1$\n",
    "3. Si $A_{1}, A_{2}, ... , A_{n}$ son disjuntos: $P(\\cup^{n}_{i}A_{i}) = \\sum ^{n}_{i=1}P(A_{i})$\n",
    "\n",
    "$\\textbf{Otras propiedades:}$\n",
    "\n",
    "Estas pueden ser derivadas a partir de los axiomas anteriores.\n",
    "\n",
    "1. $P(\\emptyset) = 0$\n",
    "2. $A \\subset B \\Rightarrow P(A) \\leq P(B)$\n",
    "3. $P(A^{c}) = 1 - P(A)$\n",
    "4. $P(A) \\cup P(B) = P(A) + P(B) - P(A \\cap B)$\n",
    "5. Dos eventos son independientes si $P(A,B) = P(A)P(B)$\n",
    "\n",
    "\n",
    "**Nota**: Desde ahora denotaremos como $P(A,B)$ a la intersección $P(A\\cup B)$\n",
    "\n",
    "\n",
    "$\\textbf{Teorema:}$\n",
    "Si $A_{n} \\rightarrow A$, entonces $P(A_{n}) \\rightarrow P(A)$ mientras $n \\rightarrow \\infty$."
   ]
  },
  {
   "cell_type": "code",
   "execution_count": 2,
   "metadata": {},
   "outputs": [
    {
     "data": {
      "text/plain": [
       "[-2.5, 2.5, -2.5, 2.5]"
      ]
     },
     "execution_count": 2,
     "metadata": {},
     "output_type": "execute_result"
    },
    {
     "data": {
      "image/png": "[encoded data removed]",
      "text/plain": [
       "<Figure size 576x576 with 1 Axes>"
      ]
     },
     "metadata": {},
     "output_type": "display_data"
    }
   ],
   "source": [
    "import matplotlib.pyplot as plt\n",
    "from matplotlib.patches import Circle, Polygon\n",
    "%matplotlib inline\n",
    "\n",
    "plt.figure(figsize=(8,8))\n",
    "\n",
    "plt.gca().add_artist(plt.Rectangle((-2,-2),4,4, edgecolor='r', hatch='///', fill=None))\n",
    "\n",
    "plt.gca().add_artist(plt.Circle((0,0),1,color='c'))\n",
    "\n",
    "\n",
    "plt.text(-0.2, 0., \"$P(A)$\", color=\"k\", fontsize=20)\n",
    "plt.text(-1.5, 1.5, \"$P(A^{c})$\", color=\"k\", fontsize=25)\n",
    "\n",
    "\n",
    "plt.axis([-2.5, 2.5, -2.5, 2.5])\n"
   ]
  },
  {
   "cell_type": "markdown",
   "metadata": {},
   "source": [
    "Sabemos que el área de una circunferencia puede ser calculada como:\n",
    "\n",
    "$A_{cir} = \\pi r^{2}$\n",
    "\n",
    "A su vez el área de un cuadrado:\n",
    "\n",
    "$A_{sq} = h^{2}$\n",
    "\n",
    "Por lo tanto, la $P(A)$ está dado por:\n",
    "\n",
    "$P(A) = \\dfrac{\\pi}{4^{2}} \\sim 0.1963 $"
   ]
  },
  {
   "cell_type": "code",
   "execution_count": 3,
   "metadata": {},
   "outputs": [
    {
     "name": "stdout",
     "output_type": "stream",
     "text": [
      "P(A) = 0.1\n",
      "P(A) = 0.19813084112149532\n",
      "P(A) = 0.19792648444863337\n",
      "P(A) = 0.19785759294265912\n",
      "P(A) = 0.18741126360624705\n",
      "P(A) = 0.21038665655799849\n",
      "P(A) = 0.1820480404551201\n",
      "P(A) = 0.19349593495934958\n",
      "P(A) = 0.2056451612903226\n",
      "P(A) = 0.1997047659215521\n",
      "P(A) = 0.1959369660148092\n",
      "P(A) = 0.19955118246159156\n",
      "P(A) = 0.19401804082924515\n",
      "P(A) = 0.18977355734112492\n",
      "P(A) = 0.19997286663953331\n",
      "P(A) = 0.18882978723404256\n",
      "P(A) = 0.19829019235336023\n",
      "P(A) = 0.19300402324541796\n",
      "P(A) = 0.19854338188727041\n",
      "P(A) = 0.1987\n"
     ]
    }
   ],
   "source": [
    "ns = np.linspace(10, 1e4, num=20, dtype='uint')\n",
    "\n",
    "\n",
    "for n in ns:\n",
    "    x = np.random.uniform(-2,2, n)\n",
    "    y = np.random.uniform(-2,2, n)\n",
    "    ixs = np.where(np.sqrt(x**2 + y**2) <= 1)[0]\n",
    "    count_a = len(ixs)\n",
    "\n",
    "    print('P(A) = {}'.format(count_a/n))\n",
    "    \n",
    "\n",
    "\n",
    "        "
   ]
  },
  {
   "cell_type": "code",
   "execution_count": 4,
   "metadata": {},
   "outputs": [
    {
     "data": {
      "text/plain": [
       "<matplotlib.collections.PathCollection at 0x10d661198>"
      ]
     },
     "execution_count": 4,
     "metadata": {},
     "output_type": "execute_result"
    },
    {
     "data": {
      "image/png": "[encoded data removed]",
      "text/plain": [
       "<Figure size 576x576 with 1 Axes>"
      ]
     },
     "metadata": {},
     "output_type": "display_data"
    }
   ],
   "source": [
    "plt.figure(figsize=(8,8))\n",
    "\n",
    "plt.scatter(x, y, c='r', s=3)\n",
    "plt.scatter(x[ixs], y[ixs], c='c', s=3, alpha = 0.7)\n"
   ]
  },
  {
   "cell_type": "markdown",
   "metadata": {},
   "source": [
    "## Probabilidades condicionales\n",
    "\n",
    "La probabilidad condicional de A dado B es:\n",
    "\n",
    "$P(A|B) = \\dfrac{P(A,B)}{P(B)}$\n",
    "\n",
    "$\\textbf{Obs}$: En general: $P(A|B) \\neq P(B|A)$\n",
    "\n",
    "Ej: La falacia del prosecutor.\n",
    "\n",
    "Supongase que un test medico para una enfermedad $D$ tiene resultados positivos ($+$) y negativos ($-$). Las probabilidades para cada caso son:\n",
    "\n",
    "\n",
    "|- | $D$| $D^{c}$ |\n",
    "| --| ------------- | ------------- |\n",
    "|+| 0.0081  | 0.0900  |\n",
    "|-| 0.0009  | 0.9010  |\n",
    "\n",
    "La probabilidad de que una persona salga positivo dado que tiene la enfermedad es:\n",
    "$P(+|D) = \\dfrac{P(+,D)}{P(D)} = \\dfrac{0.0081}{0.0081+0.0009} = 0.9$\n",
    "\n",
    "\n",
    "La probabilidad de que una persona salga negativo dado que no tiene la enfermedad es: $P(-|D^{c}) = \\dfrac{P(-,D^{c})}{P(D^{c})} = \\dfrac{0.9010}{0.9010+0.09} = 0.9$\n",
    "\n",
    "\n",
    "Al parecer el test es bastante preciso! Supongamos que nos hacemos el test y salimos positivo. ¿Cual es la probabilidad de que tengamos la enfermedad?"
   ]
  },
  {
   "cell_type": "markdown",
   "metadata": {},
   "source": [
    "## Teorema de Bayes\n",
    "\n",
    "Sabemos que: $P(A,B) = P(B,A)$, por lo tanto:\n",
    "\n",
    "$P(A|B)P(B) = P(B|A)P(A)$\n",
    "\n",
    "Entonces:\n",
    "\n",
    "$P(A|B) = \\dfrac{P(B|A)P(A)}{P(B)}$\n",
    "\n",
    "- $P(A|B)$: Posteriori.\n",
    "- $P(B|A)$: Verosimilitud.\n",
    "- $P(A)$: Priori.\n",
    "- $P(B)$: Marginal. Es llamada así porque se puede obtener marginalizando sobre A en la forma: $P(B) = \\sum^{n}_{i=1}P(B|A_{i})P(A_{i})$ (Ley de la probabilidad total).\n",
    "\n",
    "\n",
    "\n",
    "Monty Hall problem."
   ]
  },
  {
   "cell_type": "markdown",
   "metadata": {},
   "source": [
    "## Variables aleatorias\n",
    "\n",
    "Matemáticamente una variable aleatoria es un mapeo: $X: \\Omega \\rightarrow \\mathbb{R}$, que asigna un valor real $X(\\omega)$ a cada realización $\\omega$.\n",
    "\n",
    "Ejemplo: Sea $X(\\omega)$ la cantidad de caras en una secuencia $\\omega = CCSSCSCSSC$, entonces $X(\\omega) = 5$.\n",
    "\n",
    "Podemos asignar una probabilidad a las variables aleatorias de la siguiente forma:\n",
    "\n",
    "\n",
    "|$\\omega$ | $P(\\omega)$| $X(\\omega)$ |\n",
    "|--| ------------- | ------------- |\n",
    "|CC| $\\frac{1}{4}$  | $0$  |\n",
    "|CS| $\\frac{1}{4}$  | $1$  | \n",
    "|SC| $\\frac{1}{4}$  | $1$  |\n",
    "|SS| $\\frac{1}{4}$  | $2$  |\n",
    "\n",
    "\n",
    "\n",
    "|$x$ | $P(X=x)$|\n",
    "|--| ------------- | \n",
    "|0| $\\frac{1}{4}$  |\n",
    "|1| $\\frac{1}{2}$  |\n",
    "|2| $\\frac{1}{4}$  |\n",
    "\n",
    "\n",
    "\n",
    "$\\textbf{Definición}$: La **función de distribución cumulativa (CDF)**, $F_{X}: \\mathbb{R} \\rightarrow [0,1]$ de una variable aleatoria X está definida por: \n",
    "\n",
    "$$F_{X}(x)=P(X \\leq x)$$\n",
    "\n",
    "$\\textbf{Teorema}$: Una función $F_{X}: \\mathbb{R} \\rightarrow [0,1]$ es un CDF para una medida de probabilidad $P$ si y sólo si:\n",
    "1. $F$ es no-decreciente: $x_{1} \\leq x_{2}$ implica que: $F(x_{1}) \\leq F(x_{2})$\n",
    "2. $F$ es normalizada: $\\lim_{x \\rightarrow -\\infty}F(x)=0$ y $\\lim_{x \\rightarrow \\infty}F(x)=1$\n",
    "3. $F$ es derecho-continua: $F(x)=F(x^{+})$ para todo $x$ donde: $F(x^{+}) = \\lim_{y \\rightarrow x} F(y)$\n",
    "\n",
    "\n",
    "¿Cuál es la función cumulativa para el caso de las monedas?\n",
    "\n",
    "$$ f_{X}(x)=   \\left\\{\n",
    "\\begin{array}{ll}\n",
    "      0 & x<0 \\\\\n",
    "      \\frac{1}{4} & 0\\leq x < 1\\\\\n",
    "      \\frac{3}{4} & 1\\leq x < 2\\\\\n",
    "      1 & x > 2\\\\\n",
    "\\end{array} \n",
    "\\right.  $$\n",
    "\n",
    "$\\textbf{Definición}$: Para una variable **discreta**, la **función de masa de probabilidad (PMF)** de una variable aleatoria X está definida por: \n",
    "\n",
    "$$f_{X}(x)=P(X = x)$$\n",
    "\n",
    "Para una función discreta, es posible caracterízar su PMF a partir de la probabilidad de cada variable aleatoria. En el caso de las monedas:\n",
    "$$ f_{X}(x)=   \\left\\{\n",
    "\\begin{array}{ll}\n",
    "      \\frac{1}{4} & x=0 \\\\\n",
    "      \\frac{1}{2} & x=1\\\\\n",
    "      \\frac{1}{2} & x=2 \\\\\n",
    "      0 & x \\notin \\{0,1,2\\}\\\\\n",
    "\\end{array} \n",
    "\\right.  $$\n",
    "\n",
    "\n",
    "$\\textbf{Propiedades}$:\n",
    "1. $f_{X}(x) \\geq 0$ para todo $x \\in \\mathbb{R}$.\n",
    "2. $\\sum_{i} f_{X}(x_{i})=1$\n",
    "\n",
    "\n",
    "$\\textbf{Definición}$: Para una variable **continua**, existe una función $f_{X}$ tal que: $f_{X}(x) \\geq 0$ y para todo $x$, $\\int_{-\\infty}^{\\infty}f_{X}(x)dx=1$. Para todo $a<b$:\n",
    "\n",
    "\n",
    "$$P(a<X<b) = \\int_{a}^{b}f_{X}(x)(x)dx$$\n",
    "\n",
    "\n",
    "la **función de densidad de probabilidad (PDF)** de una variable aleatoria continua X definida por: \n",
    "\n",
    "$$F_{X} = \\int_{-\\infty}^{x}f_{X}(t)dt$$\n",
    "\n",
    "donde $f_{X}(x) = F'_{X}(x)$ para todos los $x$ donde $F_{X}$ es diferenciable.\n",
    "\n",
    "\n",
    "¿Cómo definimos el CDF para variables discretas y continuas?\n",
    "\n",
    "$P(X\\leq k)=\\sum^{k}_{i=1}P(X=i)$\n",
    "\n",
    "$P(X\\leq k)=\\int_{-\\infty}^{k}f_{X}dx$"
   ]
  },
  {
   "cell_type": "markdown",
   "metadata": {},
   "source": [
    "## Esperanza\n",
    "\n",
    "La esperanza o media de una variable aleatoria $X$, denotada por $\\mathbb{E}$ o $\\mu$, es el valor promedio para $X$. Esto es definido matemáticamente como:\n",
    "\n",
    "$$ \\mathbb{E}(X) = \\left\\{\n",
    "\\begin{array}{ll}\n",
    "      \\sum_{x} x f(x) & si\\ X\\ es\\ discreto \\\\\n",
    "      \\int_{x} x dF(x) & si\\ X\\ es\\ continuo \\\\\n",
    "\\end{array} \n",
    "\\right. $$\n",
    "\n",
    "**Propiedades**:\n",
    "1. $\\mathbb{E}(Y) = \\mathbb{E}(r(X)) = \\int_{x}r(x)f_{X}(x)dx$ $\\leftarrow$ LOTUS: Law of the unconscious statistician.\n",
    "2. $\\mathbb{E}\\big(\\sum_{i}X_{i}\\big)=\\sum_{i}\\mathbb{E}(X_{i})$, si $X_{1},...,X_{n}$ son independientes.\n",
    "3. $\\mathbb{E}\\big(\\prod_{i}X_{i}\\big)=\\prod_{i}\\mathbb{E}(X_{i})$, si $X_{1},...,X_{n}$ son independientes.\n",
    "4. $\\mathbb{E}\\big(aX\\big)=a\\mathbb{E}(X)$, si $a$ es una constante.\n",
    "\n",
    "\n",
    "## Varianza \n",
    "\n",
    "La varianza, denotada por $var(x)$ o $\\sigma^{2}$, mide la dispersión de una distribución, es decir, que tan alejada estará una v.a $X$ desde su media o esperanza.\n",
    "\n",
    "$$var(X) = \\mathbb{E}\\big(X-\\mathbb{E}(X)\\big)^{2} = \\int_{x}\\big(x-\\mathbb{E}(X)\\big)^{2}dF(x) = $$\n",
    "\n",
    "**Propiedades**:\n",
    "1. $var(X) = \\mathbb{E}\\big(x-\\mathbb{E}(X)\\big)^{2} = \\mathbb{E}\\big(X^{2}-2X\\mathbb{E}(X) + \\mathbb{E}(X)^{2}\\big) = \\mathbb{E}X^{2}-2\\mathbb{E}(X)\\mathbb{E}(X) + \\mathbb{E}(X)^{2} = \\mathbb{E}(X^{2}) - \\mathbb{E}(X)^{2}$\n",
    "2. $var(aX) = a^{2}\\cdot var(X)$, si $X_{1},...,X_{n}$, si $a$ es una constante.\n",
    "3. $var(X+a) = var(X)$, si $a$ es una constante.\n",
    "4. $var\\big(\\sum_{i}X_{i}\\big) = \\sum_{i}var(X_{i})$, si $a$ es una constante.\n",
    "\n",
    "\n",
    "Podemos definir la **media muestral** ($\\bar{X_{n}}$) y **varianza muestral** $S^{2}_{n}$ como sigue:\n",
    "\n",
    "$\\bar{X}_{n} = \\dfrac{1}{n}\\sum^{n}_{i=1}X_{i}$\n",
    "\n",
    "$S_{n}^{2} = \\dfrac{1}{n-1}\\sum_{i=1}^{n}(X_{i} - \\bar{X})^{2}$\n",
    "\n",
    "Esto es verdad por la ley de los grandes números:\n",
    "\n",
    "$\\bar{X}_{n} = \\dfrac{1}{n}\\sum^{n}_{i=1}X_{i} \\rightarrow \\mu$ as $n \\rightarrow \\infty$\n",
    "\n",
    "Demostración:\n",
    "\n",
    "Primero definimos la convergencia en probabilidad: Una secuencia de variables aleatoria $X_{1}, X_{2}, ...$ denotada como $X_{n}$ converge en probabilidad a la variable aleatoria $X$ si:\n",
    "$$P(|X_{n}-X|>\\epsilon)\\rightarrow 0, \\forall \\epsilon > 0, si\\ n\\rightarrow \\infty$$\n",
    "\n",
    "Entonces: \n",
    "\n",
    "$$P(|\\bar{X}_{n}-\\mu|>\\epsilon) \\leq \\dfrac{V(\\bar{X_{n}})}{\\epsilon^{2}},\\ (desigualdad\\ de\\ Chebyshev)$$ \n",
    "$$P(|\\bar{X}_{n}-\\mu|>\\epsilon) \\leq \\dfrac{\\sigma^{2}}{n\\epsilon^{2}}$$\n",
    "Finalmente:\n",
    "$$P(|\\bar{X}_{n}-\\mu|>\\epsilon) \\leq 0,\\ si\\ n \\rightarrow \\infty$$\n"
   ]
  },
  {
   "cell_type": "markdown",
   "metadata": {},
   "source": [
    "## Distribuciones conocidas:\n",
    "\n",
    "### Distribución Uniforme Discreta:\n",
    "\n",
    "$$ f_{X}(x)=   \\left\\{\n",
    "\\begin{array}{ll}\n",
    "      \\frac{1}{k} & x \\in \\{1,...,k\\} \\\\\n",
    "      0 & x \\notin \\{1,...,k\\} \\\\\n",
    "\\end{array} \n",
    "\\right.  $$\n",
    "\n",
    "Suponiendo $x \\in [a,b]$:\n",
    "\n",
    "$\\mathbb{E}(X) = \\dfrac{a}{b-a} + \\dfrac{a+1}{b-a} + ... + \\dfrac{b}{b-a} = \\dfrac{(b-a)(b+a)}{2} \\cdot \\dfrac{1}{b-a} = \\dfrac{b+a}{2} $\n",
    "\n",
    "\n",
    "Para calcular la varianza:\n",
    "$\\mathbb{E}(X^{2}) = \\dfrac{1}{b-a+1}\\sum_{i=a}^{b}X_{i}^{2} = \\dfrac{1}{b-a+1} \\cdot \\dfrac{(b)(b+1)(2b+1)+(a-1)((a-1)+1)(2(a-1)+1)}{6}$ $\\leftarrow$ (Suma de secuencia de cuadrados)\n",
    "\n",
    "$var(X) = \\dfrac{1}{b-a+1} \\cdot \\dfrac{(b)(b+1)(2b+1)+(a-1)((a-1)+1)(2(a-1)+1)}{6} -  \\Big(\\dfrac{b+a}{2}\\Big)^{2} =\\dfrac{(b-a+1)^{2}-1}{12}$"
   ]
  },
  {
   "cell_type": "code",
   "execution_count": 5,
   "metadata": {},
   "outputs": [
    {
     "data": {
      "text/plain": [
       "Text(0.5,1,'Distribución uniforme')"
      ]
     },
     "execution_count": 5,
     "metadata": {},
     "output_type": "execute_result"
    },
    {
     "data": {
      "image/png": "[encoded data removed]",
      "text/plain": [
       "<Figure size 432x288 with 1 Axes>"
      ]
     },
     "metadata": {},
     "output_type": "display_data"
    }
   ],
   "source": [
    "a = 0\n",
    "b = 20\n",
    "\n",
    "samples = np.random.randint(low=a, high=b, size=10000000)\n",
    "\n",
    "unique, counts = np.unique(samples, return_counts=True)\n",
    "\n",
    "plt.bar(unique, counts)\n",
    "plt.xticks(unique, unique)\n",
    "plt.ylabel('Ocurrencias')\n",
    "plt.title('Distribución uniforme')\n"
   ]
  },
  {
   "cell_type": "code",
   "execution_count": 6,
   "metadata": {},
   "outputs": [
    {
     "name": "stdout",
     "output_type": "stream",
     "text": [
      "Media estimada: 9.4999658, Teórica: 10.0\n",
      "Varianza estimada: 33.22933219883036, Teórica: 36.666666666666664\n"
     ]
    }
   ],
   "source": [
    "print('Media estimada: {}, Teórica: {}'.format(np.mean(samples), (a+b)/2))\n",
    "print('Varianza estimada: {}, Teórica: {}'.format(np.std(samples)**2, ((b-a+1)**2-1)/12))"
   ]
  },
  {
   "cell_type": "markdown",
   "metadata": {},
   "source": [
    "\n",
    "### Distribución Bernoulli\n",
    "\n",
    "Una variable aleatoria $X$ se distribuye Bernoulli si tiene sólo dos posibles valores de ocurrencia (0 y 1) y se cumple que: $P(X=1) = p$ y $P(X=0) = 1-p$. El PMF está dado por:\n",
    "$$f_{X}(x)=p^{x}(1-p)^{1-x}, x \\in \\{0,1\\}$$\n",
    "\n",
    "\n",
    "$\\mathbb{E}(x) = 0\\cdot(1-p) + 1\\cdot(p) = p$ \n",
    "\n",
    "\n",
    "Para calcular la varianza:\n",
    "\n",
    "$\\mathbb{E}(X^{2}) = 0^{2}\\cdot(1-p) + 1^{2}\\cdot(p) = p$ \n",
    "\n",
    "$var(x) = p-p^{2} = p\\cdot(1-p)$"
   ]
  },
  {
   "cell_type": "code",
   "execution_count": 7,
   "metadata": {},
   "outputs": [
    {
     "data": {
      "text/plain": [
       "Text(0.5,1,'Distribución Bernoulli')"
      ]
     },
     "execution_count": 7,
     "metadata": {},
     "output_type": "execute_result"
    },
    {
     "data": {
      "image/png": "[encoded data removed]",
      "text/plain": [
       "<Figure size 432x288 with 1 Axes>"
      ]
     },
     "metadata": {},
     "output_type": "display_data"
    }
   ],
   "source": [
    "n, p = 1, 0.5\n",
    "samples = np.random.binomial(n, p, size=100)\n",
    "\n",
    "unique, counts = np.unique(samples, return_counts=True)\n",
    "\n",
    "plt.bar(unique, counts)\n",
    "plt.xticks(unique, unique)\n",
    "plt.ylabel('Ocurrencias')\n",
    "plt.title('Distribución Bernoulli')"
   ]
  },
  {
   "cell_type": "code",
   "execution_count": 8,
   "metadata": {},
   "outputs": [
    {
     "name": "stdout",
     "output_type": "stream",
     "text": [
      "Media estimada: 0.45, Teórica: 0.5\n",
      "Varianza estimada: 0.2475, Teórica: 0.25\n"
     ]
    }
   ],
   "source": [
    "print('Media estimada: {}, Teórica: {}'.format(np.mean(samples), p))\n",
    "print('Varianza estimada: {}, Teórica: {}'.format(np.std(samples)**2, p*(1-p)))"
   ]
  },
  {
   "cell_type": "markdown",
   "metadata": {},
   "source": [
    "\n",
    "### Distribución Binomial\n",
    "\n",
    "Es la distribución de numero de sucesos de la variable aleatoria $X$ en $n$ intentps independientes, distribuidos Bernoulli con parámetro $p$. Su PMF está dado por:\n",
    "\n",
    "$$f_{X}(x)=\\dbinom{n}{x}p^{x}(1-p)^{1-x}, x \\in \\{0,...,n\\}$$\n",
    "\n",
    "\n",
    "Usando la propiedad numero 2 de la esperanza podemos encontrar la esperanza de esta distribución:\n",
    "\n",
    "$\\mathbb{E}(X)=\\mathbb{E}(\\sum_{i}X_{i})=\\sum_{i}\\mathbb{E}(X_{i}) = n \\cdot p$\n",
    "\n",
    "Usando esta misma propiedad podemos encontrar la varianza:\n",
    "\n",
    "$var(X)= var(\\sum_{i}X_{i}) = \\sum_{i}var(X_{i}) = n \\cdot p \\cdot (1-p)$"
   ]
  },
  {
   "cell_type": "code",
   "execution_count": 9,
   "metadata": {},
   "outputs": [
    {
     "data": {
      "text/plain": [
       "Text(0.5,1,'Distribución Binomial')"
      ]
     },
     "execution_count": 9,
     "metadata": {},
     "output_type": "execute_result"
    },
    {
     "data": {
      "image/png": "[encoded data removed]",
      "text/plain": [
       "<Figure size 432x288 with 1 Axes>"
      ]
     },
     "metadata": {},
     "output_type": "display_data"
    }
   ],
   "source": [
    "n, p = 100, 0.5\n",
    "samples = np.random.binomial(n, p, size=100)\n",
    "\n",
    "unique, counts = np.unique(samples, return_counts=True)\n",
    "\n",
    "plt.bar(unique, counts)\n",
    "plt.xticks(unique, unique)\n",
    "plt.ylabel('Ocurrencias')\n",
    "plt.title('Distribución Binomial')"
   ]
  },
  {
   "cell_type": "code",
   "execution_count": 10,
   "metadata": {},
   "outputs": [
    {
     "name": "stdout",
     "output_type": "stream",
     "text": [
      "Media estimada: 50.39, Teórica: 50.0\n",
      "Varianza estimada: 24.177899999999994, Teórica: 25.0\n"
     ]
    }
   ],
   "source": [
    "print('Media estimada: {}, Teórica: {}'.format(np.mean(samples), n*p))\n",
    "print('Varianza estimada: {}, Teórica: {}'.format(np.std(samples)**2, n*p*(1-p)))"
   ]
  },
  {
   "cell_type": "markdown",
   "metadata": {},
   "source": [
    "### Distribución Uniforme Continua:\n",
    "\n",
    "El PDF de una distribución uniforme continua está dado por:\n",
    "\n",
    "$$ f_{X}(x)=   \\left\\{\n",
    "\\begin{array}{ll}\n",
    "      0 & x < a \\\\\n",
    "      \\frac{1}{b-a} & x \\in [a,b] \\\\\n",
    "      1 & x > b \\\\\n",
    "\\end{array} \n",
    "\\right.  $$\n",
    "\n",
    "$\\mathbb{E}(X) = \\int^{b}_{a}x\\dfrac{1}{b-a}dx = \\dfrac{x^{2}}{2(b-a)}\\Big|_{a}^{b} = \\dfrac{(b+a)(b-a)}{2(b-a)} = \\dfrac{(b+a)}{2}$\n",
    "\n",
    "Para calcular la varianza:\n",
    "$\\mathbb{E}(X^{2}) = \\int^{b}_{a}x^{2}\\dfrac{1}{b-a}dx = \\dfrac{x^{3}}{3(b-a)}\\Big|_{a}^{b} = \\dfrac{b^{3}-a^{3}}{3(b-a)} = \\dfrac{(b-a)(b^{2}+2ab+a^{2})}{3(b-a)} = \\dfrac{b^{2}+ab+a^{2}}{3}$\n",
    "\n",
    "$var(x) = \\dfrac{b^{2}+ab+a^{2}}{3} - \\Big(\\dfrac{(b+a)}{2}\\Big)^{2} = \\dfrac{b^{2}+ab+a^{2}}{3} - \\dfrac{b^{2}+2ab+a^{2}}{4} = \\dfrac{4(b^{2}+ab+a^{2})-3(b^{2}+2ab+a^{2})}{12} = \\dfrac{(b-a)^{2}}{12}$"
   ]
  },
  {
   "cell_type": "code",
   "execution_count": 33,
   "metadata": {},
   "outputs": [
    {
     "data": {
      "text/plain": [
       "Text(0.5,1,'Distribución uniforme')"
      ]
     },
     "execution_count": 33,
     "metadata": {},
     "output_type": "execute_result"
    },
    {
     "data": {
      "image/png": "[encoded data removed]",
      "text/plain": [
       "<Figure size 432x288 with 1 Axes>"
      ]
     },
     "metadata": {},
     "output_type": "display_data"
    }
   ],
   "source": [
    "a = 0\n",
    "b = 20\n",
    "samples = np.random.uniform(low=a, high=b, size=1000)\n",
    "\n",
    "unique, counts = np.unique(samples, return_counts=True)\n",
    "\n",
    "plt.hist(samples, bins = 100)\n",
    "plt.ylabel('Ocurrencias')\n",
    "plt.title('Distribución uniforme')"
   ]
  },
  {
   "cell_type": "code",
   "execution_count": 32,
   "metadata": {},
   "outputs": [
    {
     "name": "stdout",
     "output_type": "stream",
     "text": [
      "Media estimada: 9.998562584606466, Teórica: 10.0\n",
      "Varianza estimada: 33.30417106126581, Teórica: 33.333333333333336\n"
     ]
    }
   ],
   "source": [
    "print('Media estimada: {}, Teórica: {}'.format(np.mean(samples), (a+b)/2))\n",
    "print('Varianza estimada: {}, Teórica: {}'.format(np.std(samples)**2, (b-a)**2/12))"
   ]
  },
  {
   "cell_type": "markdown",
   "metadata": {},
   "source": [
    "### Distribución Normal:\n",
    "\n",
    "El PDF de una distribución Normal está dado por:\n",
    "\n",
    "$$ f_{X}(x)= \\dfrac{1}{\\sigma\\sqrt{2\\pi}}\\exp{-\\dfrac{(x-\\mu)^{2}}{2\\sigma^{2}}}, x \\in \\mathcal{R}$$\n",
    "\n",
    "$\\textbf{Obs}$: $\\mu$ y $\\sigma$ son definidos como el centro (media) y la dispersión (varianza) de la distribución. Cuando una distribución normal tiene $\\mu = 0$ y $\\sigma=1$, esta es llamada distrbución normal estándar, cuyo PDF está deotado por $\\phi(z)$ y CDF $\\Phi(z)$. \n",
    "\n",
    "$\\textbf{Propiedades útiles}$:\n",
    "\n",
    "1.- Si $X \\sim \\mathcal{N}(\\mu, \\sigma^{2})$, entonces $Z = \\dfrac{X-\\mu}{\\sigma} \\sim \\mathcal{N}(0,1)$.\n",
    "\n",
    "2.- Además, podemos calcular la probabilidad de la distribución sobre un intervalo de la siguiente forma:\n",
    "$$P(a<X<b) = P \\Big(\\dfrac{a-\\mu}{\\sigma}<Z<\\dfrac{b-\\mu}{\\sigma}\\Big) = \\phi\\Big(\\dfrac{b-\\mu}{\\sigma}\\Big) - \\phi\\Big(\\dfrac{a-\\mu}{\\sigma}\\Big)$$\n",
    "Donde los valores de cualquier $\\phi(z)$ son conocidos.\n",
    "\n",
    "$\\mathbb{E}(X) = \\mu$\n",
    "\n",
    "$var(X) = \\sigma^{2}$"
   ]
  },
  {
   "cell_type": "code",
   "execution_count": 35,
   "metadata": {},
   "outputs": [
    {
     "data": {
      "text/plain": [
       "Text(0.5,1,'Distribución normal')"
      ]
     },
     "execution_count": 35,
     "metadata": {},
     "output_type": "execute_result"
    },
    {
     "data": {
      "image/png": "[encoded data removed]",
      "text/plain": [
       "<Figure size 432x288 with 1 Axes>"
      ]
     },
     "metadata": {},
     "output_type": "display_data"
    }
   ],
   "source": [
    "mu, sigma = 0, 1\n",
    "\n",
    "samples = np.random.normal(loc=mu, scale=sigma, size=1000)\n",
    "\n",
    "plt.hist(samples, bins=100)\n",
    "plt.ylabel('Ocurrencias')\n",
    "plt.title('Distribución normal')"
   ]
  },
  {
   "cell_type": "code",
   "execution_count": 22,
   "metadata": {},
   "outputs": [
    {
     "name": "stdout",
     "output_type": "stream",
     "text": [
      "Media estimada: 0.00782283647438307, Teórica: 0\n",
      "Varianza estimada: 0.9981317658780153, Teórica: 1\n"
     ]
    }
   ],
   "source": [
    "print('Media estimada: {}, Teórica: {}'.format(np.mean(samples), mu))\n",
    "print('Varianza estimada: {}, Teórica: {}'.format(np.std(samples)**2, sigma))"
   ]
  },
  {
   "cell_type": "markdown",
   "metadata": {},
   "source": [
    "## Teorema del Límite Central\n",
    "\n",
    "Sea $X_{1}, X_{2}, ...n X_{n}$ muestras i.i.d con media $\\mu$ y varianza $\\sigma^{2}$. Sea $\\bar{X}_{n}=\\dfrac{1}{n}\\sum_{i=1}^{n}X_{i}$, entonces:\n",
    "\n",
    "$$ Z_{n}=\\dfrac{\\sqrt{n}(\\bar{X}_{n}-\\mu)}{\\sigma} \\rightarrow Z \\sim \\mathcal{N}(0,1)$$"
   ]
  },
  {
   "cell_type": "code",
   "execution_count": 43,
   "metadata": {},
   "outputs": [
    {
     "data": {
      "text/plain": [
       "Text(0.5,1,'Distribución uniforme')"
      ]
     },
     "execution_count": 43,
     "metadata": {},
     "output_type": "execute_result"
    },
    {
     "data": {
      "image/png": "[encoded data removed]",
      "text/plain": [
       "<Figure size 432x288 with 1 Axes>"
      ]
     },
     "metadata": {},
     "output_type": "display_data"
    }
   ],
   "source": [
    "a = 0\n",
    "b = 20\n",
    "\n",
    "Z_n_samples = []\n",
    "\n",
    "for i in range(100):\n",
    "    samples = np.random.uniform(low=a, high=b, size=1000)\n",
    "    X_bar = np.mean(samples)\n",
    "    Z_n = len(samples)**(1/2)*(X_bar-(a+b)/2)/((b-a)**2/12)\n",
    "    Z_n_samples.append(Z_n)\n",
    "\n",
    "\n",
    "plt.hist(Z_n_samples, bins = 100)\n",
    "plt.ylabel('Ocurrencias')\n",
    "plt.title('Distribución uniforme')"
   ]
  },
  {
   "cell_type": "markdown",
   "metadata": {},
   "source": [
    "# Statistical Learning\n",
    "\n",
    "El aprendizaje estadistico es el proceso mediante el cual usamos datos para estimar la distribución de probabilidad que generan estos datos.\n",
    "\n",
    "Un **modelo estadístico** es un set de distribuciones (o densidades) $\\mathcal{P}$. Un **modelo paramétrico** es un set $\\mathcal{P}$ que puede ser parametrizado por un número finito de parámetros y se denota como:\n",
    "\n",
    "$$\\mathcal{P}=\\Big\\{f(x;\\theta): \\theta \\in \\Theta \\Big\\}$$\n",
    "\n",
    "Donde $\\theta$ es un parámetro desconocido (o un vector de parámetros) que puede tomar valores en el espacio de parámetros $\\Theta$\n",
    "\n",
    "Ej: Si asumimos que los datos provienen de una distribución Normal, entonces el modelo está definido por:\n",
    "$$\\mathcal{P} = \\Big\\{f(x;\\mu,\\sigma)=\\dfrac{1}{\\sigma \\sqrt{\\pi}}\\exp\\Big({\\dfrac{-(x-\\mu)^{2}}{2\\sigma^{2}}\\Big)}, \\mu \\in \\mathbb{R}, \\sigma >0\\Big\\}$$\n",
    "\n",
    "\n",
    "**Definciones**\n",
    "\n",
    "1. **Estimación puntual**: Se refiere a la mejor estimación del parámetro o densidad de interés. En un modelo paramétrico denotamos al estimador puntual del parámetro $\\theta$ como $\\hat{\\theta}$. Esta estimación $\\hat{\\theta}$ depende de los datos, que son variables aleatorias, por lo tanto es también una variable aleatoria que depende de los datos:\n",
    "\n",
    "$$\\hat{\\theta} = g(X_{1},...,X_{n})$$\n",
    "\n",
    "\n",
    "Se define el sesgo de un estimador puntual como:\n",
    "$$bias(\\hat{\\theta}_{n}) = \\mathbb{E}(\\hat{\\theta}_{n}) - \\theta$$\n",
    "\n",
    "Por lo tanto, $\\hat{\\theta}_{n}$ es no sesgado si $\\mathbb{E}(\\hat{\\theta}_{n}) = \\theta$. Podemos ver el sesgo como: Si ejecuto un experimento multiples veces y promedio su estimador puntial, debiese obtener el parámetro real.\n",
    "\n",
    "Se define como el error estándar de $\\hat{\\theta}_{n}$ como:\n",
    "$$se(\\hat{\\theta}_{n}) = \\sqrt{V(\\hat{\\theta}_{n})} = \\mathbb{E}(\\hat{\\theta}-\\mathbb{E}(\\hat{\\theta}))$$\n",
    "\n",
    "La calidad de un estimador puntual comúnmente se mide mediante el **error cuadrático medio**:\n",
    "$$MSE = \\mathbb{E}_{\\theta}(\\hat{\\theta}_{n} - \\theta )^{2} = bias(\\hat{\\theta}_{n})^{2} + V(\\hat{\\theta}_{n})$$\n",
    "\n",
    "**Prueba**:\n",
    "\n",
    "$MSE = \\mathbb{E}_{\\theta}(\\hat{\\theta} - \\theta )^{2} = \\mathbb{E}_{\\theta}(\\hat{\\theta}- \\mathbb{E}(\\hat{\\theta}) + \\mathbb{E}(\\hat{\\theta}) - \\theta)^{2} = \\mathbb{E}_{\\theta}(\\hat{\\theta}- \\mathbb{E}(\\hat{\\theta}))^{2} + 2\\mathbb{E}[(\\hat{\\theta}-\\mathbb{E}(\\hat{\\theta}))(\\mathbb{\\hat{\\theta}}-\\theta)]+  \\mathbb{E}(\\bar{\\theta} - \\theta)^{2}$"
   ]
  },
  {
   "cell_type": "code",
   "execution_count": null,
   "metadata": {},
   "outputs": [],
   "source": []
  }
 ],
 "metadata": {
  "kernelspec": {
   "display_name": "Python 3",
   "language": "python",
   "name": "python3"
  },
  "language_info": {
   "codemirror_mode": {
    "name": "ipython",
    "version": 3
   },
   "file_extension": ".py",
   "mimetype": "text/x-python",
   "name": "python",
   "nbconvert_exporter": "python",
   "pygments_lexer": "ipython3",
   "version": "3.6.7"
  }
 },
 "nbformat": 4,
 "nbformat_minor": 2
}
